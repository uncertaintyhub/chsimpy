{
 "cells": [
  {
   "cell_type": "code",
   "execution_count": null,
   "id": "9d74d31a",
   "metadata": {},
   "outputs": [],
   "source": [
    "# for wider cells"
   ]
  },
  {
   "cell_type": "code",
   "execution_count": 1,
   "id": "57dd9fb6",
   "metadata": {},
   "outputs": [
    {
     "data": {
      "text/html": [
       "<style>\n",
       ".container { \n",
       "    width:100% !important; \n",
       "}\n",
       "div.output_area pre {\n",
       "    white-space: pre;\n",
       "}\n",
       ".output_result {\n",
       "    max-width:100% !important; \n",
       "}\n",
       "</style>\n"
      ],
      "text/plain": [
       "<IPython.core.display.HTML object>"
      ]
     },
     "metadata": {},
     "output_type": "display_data"
    }
   ],
   "source": [
    "%%html\n",
    "<style>\n",
    ".container { \n",
    "    width:100% !important; \n",
    "}\n",
    "div.output_area pre {\n",
    "    white-space: pre;\n",
    "}\n",
    ".output_result {\n",
    "    max-width:100% !important; \n",
    "}\n",
    "</style>"
   ]
  },
  {
   "cell_type": "code",
   "execution_count": 2,
   "id": "3eaa5aea",
   "metadata": {},
   "outputs": [],
   "source": [
    "import pstats"
   ]
  },
  {
   "cell_type": "code",
   "execution_count": 3,
   "id": "daf77927",
   "metadata": {},
   "outputs": [],
   "source": [
    "p = pstats.Stats('cprofile.stats')\n",
    "p.sort_stats('cumulative')\n",
    "p.print_stats()"
   ]
  },
  {
   "cell_type": "code",
   "execution_count": null,
   "id": "26945eab",
   "metadata": {
    "scrolled": true
   },
   "outputs": [],
   "source": [
    "p.print_callers()\n",
    "#p.print_callees()"
   ]
  }
 ],
 "metadata": {
  "kernelspec": {
   "display_name": "Python 3 (ipykernel)",
   "language": "python",
   "name": "python3"
  },
  "language_info": {
   "codemirror_mode": {
    "name": "ipython",
    "version": 3
   },
   "file_extension": ".py",
   "mimetype": "text/x-python",
   "name": "python",
   "nbconvert_exporter": "python",
   "pygments_lexer": "ipython3",
   "version": "3.10.8"
  }
 },
 "nbformat": 4,
 "nbformat_minor": 5
}
