{
 "cells": [
  {
   "cell_type": "code",
   "execution_count": null,
   "id": "9d74d31a",
   "metadata": {},
   "outputs": [],
   "source": [
    "# for wider cells"
   ]
  },
  {
   "cell_type": "code",
   "execution_count": null,
   "id": "57dd9fb6",
   "metadata": {
    "ExecuteTime": {
     "end_time": "2023-01-26T13:03:02.363536Z",
     "start_time": "2023-01-26T13:03:02.331089Z"
    }
   },
   "outputs": [],
   "source": [
    "%%html\n",
    "<style>\n",
    ".container { \n",
    "    width:100% !important; \n",
    "}\n",
    "div.output_area pre {\n",
    "    white-space: pre;\n",
    "}\n",
    ".output_result {\n",
    "    max-width:100% !important; \n",
    "}\n",
    "</style>"
   ]
  },
  {
   "cell_type": "code",
   "execution_count": null,
   "id": "3eaa5aea",
   "metadata": {
    "ExecuteTime": {
     "end_time": "2023-01-26T13:03:04.825562Z",
     "start_time": "2023-01-26T13:03:04.819307Z"
    }
   },
   "outputs": [],
   "source": [
    "import pstats"
   ]
  },
  {
   "cell_type": "code",
   "execution_count": null,
   "id": "daf77927",
   "metadata": {
    "ExecuteTime": {
     "end_time": "2023-01-26T13:10:30.294584Z",
     "start_time": "2023-01-26T13:10:30.079402Z"
    },
    "scrolled": false
   },
   "outputs": [],
   "source": [
    "p = pstats.Stats('cprofile.stats')\n",
    "p.sort_stats('cumulative').strip_dirs().sort_stats('cumtime')\n",
    "p.print_stats()"
   ]
  },
  {
   "cell_type": "code",
   "execution_count": null,
   "id": "26945eab",
   "metadata": {
    "scrolled": true
   },
   "outputs": [],
   "source": [
    "p.print_callers()\n",
    "#p.print_callees()"
   ]
  },
  {
   "cell_type": "code",
   "execution_count": null,
   "id": "559d631e",
   "metadata": {},
   "outputs": [],
   "source": []
  }
 ],
 "metadata": {
  "hide_input": false,
  "kernelspec": {
   "display_name": "Python 3",
   "language": "python",
   "name": "python3"
  },
  "language_info": {
   "codemirror_mode": {
    "name": "ipython",
    "version": 3
   },
   "file_extension": ".py",
   "mimetype": "text/x-python",
   "name": "python",
   "nbconvert_exporter": "python",
   "pygments_lexer": "ipython3",
   "version": "3.10.8"
  },
  "toc": {
   "base_numbering": 1,
   "nav_menu": {},
   "number_sections": true,
   "sideBar": true,
   "skip_h1_title": false,
   "title_cell": "Table of Contents",
   "title_sidebar": "Contents",
   "toc_cell": false,
   "toc_position": {},
   "toc_section_display": true,
   "toc_window_display": false
  }
 },
 "nbformat": 4,
 "nbformat_minor": 5
}
