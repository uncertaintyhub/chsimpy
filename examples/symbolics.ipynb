{
 "cells": [
  {
   "cell_type": "code",
   "execution_count": null,
   "id": "6a424c05",
   "metadata": {
    "ExecuteTime": {
     "end_time": "2023-02-03T14:14:07.630085Z",
     "start_time": "2023-02-03T14:14:07.405428Z"
    }
   },
   "outputs": [],
   "source": [
    "from IPython.display import Math\n",
    "import sympy as sym\n",
    "from sympy.plotting import plot\n",
    "sym.init_printing()  # automatically enable the best printer available in your environment."
   ]
  },
  {
   "cell_type": "code",
   "execution_count": null,
   "id": "10158fab",
   "metadata": {
    "ExecuteTime": {
     "end_time": "2023-02-03T14:14:08.953858Z",
     "start_time": "2023-02-03T14:14:08.505166Z"
    },
    "scrolled": true
   },
   "outputs": [],
   "source": [
    "R = sym.Symbol('R')\n",
    "T = sym.Symbol('T')\n",
    "A0 = sym.Symbol('A0')\n",
    "A1 = sym.Symbol('A1')\n",
    "B = sym.Symbol('B')\n",
    "x = sym.Symbol('x', real=True)\n",
    "\n",
    "c = x  # c and x will be the same throughout this notebook\n",
    "\n",
    "#\n",
    "# mu is molar Gibbs free energy, which we want to minimize\n",
    "# Note, that mu from (5) does not give desired roots for the miscibility gap, as -RTBc is missing\n",
    "mu = R*T*(x*sym.log(x) + (1-x) * sym.log(1-x))+x*(1-x)*(A0 + A1*(1-2*x))\n",
    "# We use the molar Gibbs free energy (Energie) (written in paper somewhere?)\n",
    "E = (R*T * (c*(sym.log(c) - B) + (1-c)*sym.log(1-c)) + (A0 + A1*(1-2*c)) * c * (1-c)) #+ 0.5*eps2*du2\n",
    "# The chemical potential (EnergiePrime = dE/dc)\n",
    "EP = (R*T * sym.log(c/(1-c)) - B*R*T + A0*(1-2*c) + A1*(1-2*c)**2 - 2*A1*(c*(1-c)))\n",
    "# E'' is probably wrong (only needed for Mobility M)\n",
    "EPP = ((1-c)/c) * (1/(1-c) + c/((1-c)**2)) - 2* A0 - 6*A1*(1-2*c)\n",
    "# simplify\n",
    "mu = sym.simplify(sym.expand(mu))\n",
    "E = sym.simplify(sym.expand(E))\n",
    "EP = sym.simplify(sym.expand(EP))\n",
    "EPP = sym.simplify(sym.expand(EPP))\n",
    "# derivatives\n",
    "d1 = sym.diff(E, x, 1) # first derivative\n",
    "d1 = sym.simplify(sym.expand(d1))\n",
    "d2 = sym.diff(E, x, 2) # second derivative\n",
    "d2 = sym.simplify(sym.expand(d2))"
   ]
  },
  {
   "cell_type": "code",
   "execution_count": null,
   "id": "bb2d7c12",
   "metadata": {
    "ExecuteTime": {
     "end_time": "2023-02-03T14:14:10.354130Z",
     "start_time": "2023-02-03T14:14:10.008880Z"
    }
   },
   "outputs": [],
   "source": [
    "mu  # without tuning parameter -RTBx"
   ]
  },
  {
   "cell_type": "code",
   "execution_count": null,
   "id": "894d6554",
   "metadata": {
    "ExecuteTime": {
     "end_time": "2023-02-03T14:14:11.684747Z",
     "start_time": "2023-02-03T14:14:11.288954Z"
    }
   },
   "outputs": [],
   "source": [
    "E  #Math(f\"E={sym.latex(E)}\")"
   ]
  },
  {
   "cell_type": "code",
   "execution_count": null,
   "id": "63c6fcf5",
   "metadata": {
    "ExecuteTime": {
     "end_time": "2023-02-03T14:14:13.999907Z",
     "start_time": "2023-02-03T14:14:13.425877Z"
    }
   },
   "outputs": [],
   "source": [
    "print(\"E'=\")\n",
    "display(d1)\n",
    "EP"
   ]
  },
  {
   "cell_type": "code",
   "execution_count": null,
   "id": "08c0a634",
   "metadata": {
    "ExecuteTime": {
     "end_time": "2023-02-03T14:14:15.946437Z",
     "start_time": "2023-02-03T14:14:15.245263Z"
    }
   },
   "outputs": [],
   "source": [
    "print(\"E''=\")\n",
    "display(d2)\n",
    "EPP  # wrong? ... - 1 instead of ... - RT"
   ]
  },
  {
   "cell_type": "code",
   "execution_count": null,
   "id": "d860285e",
   "metadata": {
    "ExecuteTime": {
     "end_time": "2023-02-03T14:26:32.812963Z",
     "start_time": "2023-02-03T14:26:32.710359Z"
    }
   },
   "outputs": [],
   "source": [
    "# now with numbers and roots\n",
    "R = 0.0083144626181532\n",
    "T = 923.15\n",
    "B = 12.81\n",
    "A0 = -151.26151  # 186.0575 - 0.3654*T;  % in kJ / mol\n",
    "A1 = -85.612615  # 43.7207 - 0.1401*T;  % in kJ / mol\n",
    "RTB=R*T*B\n",
    "\n",
    "# just for testing, not used\n",
    "# du2 = 1\n",
    "# Amr = 1/0.0010159633114033082\n",
    "# eps2 = 0.08133198955658544  # (30 / 105.1939)**2\n",
    "\n",
    "E = (R*T * (c*(sym.log(c) - B) + (1-c)*sym.log(1-c)) + (A0 + A1*(1-2*c)) * c * (1-c)) #+ 0.5*eps2*du2\n",
    "EP = (R*T * sym.log(c/(1-c)) - B*R*T + A0*(1-2*c) + A1*(1-2*c)**2 - 2*A1*(c*(1-c)))\n",
    "\n",
    "E = sym.simplify(sym.expand(E))\n",
    "EP = sym.simplify(sym.expand(EP))"
   ]
  },
  {
   "cell_type": "code",
   "execution_count": null,
   "id": "27b3ddc2",
   "metadata": {
    "ExecuteTime": {
     "end_time": "2023-02-03T14:14:19.646310Z",
     "start_time": "2023-02-03T14:14:18.719229Z"
    }
   },
   "outputs": [],
   "source": [
    "# 0.8121353, 0.9723917 were computed in the preprint\n",
    "# roots of first derivative\n",
    "roots = sym.solveset(EP, x, domain=sym.S.Reals)\n",
    "re1 = sym.nsolve(EP, (0.7, 0.9), solver='bisect')\n",
    "re2 = sym.nsolve(EP, (0.9, 0.99), solver='bisect')\n",
    "display(roots)\n",
    "display(re1, re2)"
   ]
  },
  {
   "cell_type": "code",
   "execution_count": null,
   "id": "21bbf097",
   "metadata": {
    "ExecuteTime": {
     "end_time": "2023-02-03T14:14:21.150493Z",
     "start_time": "2023-02-03T14:14:20.615832Z"
    }
   },
   "outputs": [],
   "source": [
    "plot(E, (x, 0.7, 0.99))"
   ]
  },
  {
   "cell_type": "code",
   "execution_count": null,
   "id": "4e213472",
   "metadata": {
    "ExecuteTime": {
     "end_time": "2023-02-03T14:14:22.122289Z",
     "start_time": "2023-02-03T14:14:21.952400Z"
    },
    "scrolled": false
   },
   "outputs": [],
   "source": [
    "plot(EP, (x, 0.7, 0.99))"
   ]
  },
  {
   "cell_type": "code",
   "execution_count": null,
   "id": "84b7a0eb",
   "metadata": {},
   "outputs": [],
   "source": []
  }
 ],
 "metadata": {
  "hide_input": false,
  "kernelspec": {
   "display_name": "Python 3",
   "language": "python",
   "name": "python3"
  },
  "language_info": {
   "codemirror_mode": {
    "name": "ipython",
    "version": 3
   },
   "file_extension": ".py",
   "mimetype": "text/x-python",
   "name": "python",
   "nbconvert_exporter": "python",
   "pygments_lexer": "ipython3",
   "version": "3.10.8"
  },
  "toc": {
   "base_numbering": 1,
   "nav_menu": {},
   "number_sections": true,
   "sideBar": true,
   "skip_h1_title": false,
   "title_cell": "Table of Contents",
   "title_sidebar": "Contents",
   "toc_cell": false,
   "toc_position": {},
   "toc_section_display": true,
   "toc_window_display": false
  }
 },
 "nbformat": 4,
 "nbformat_minor": 5
}
