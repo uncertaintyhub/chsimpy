{
 "cells": [
  {
   "cell_type": "code",
   "execution_count": null,
   "id": "6a424c05",
   "metadata": {},
   "outputs": [],
   "source": [
    "import sympy as sym\n",
    "from sympy.plotting import plot"
   ]
  },
  {
   "cell_type": "code",
   "execution_count": null,
   "id": "10158fab",
   "metadata": {},
   "outputs": [],
   "source": [
    "RT = sym.Symbol('RT')\n",
    "A0 = sym.Symbol('A0')\n",
    "A1 = sym.Symbol('A1')\n",
    "x = sym.Symbol('x')\n",
    "mu = RT*(x*sym.log(x) + (1-x) * sym.log(1-x))+x*(1-x)*(A0 + A1*(1-2*x))\n",
    "d1 = sym.diff(mu, x, 1) # first derivative\n",
    "d1 = sym.simplify(sym.expand(d1))\n",
    "d2 = sym.diff(mu, x, 2) # second derivative\n",
    "d2 = sym.simplify(sym.expand(d2))\n",
    "display(mu)\n",
    "display(d1)\n",
    "display(d2)"
   ]
  },
  {
   "cell_type": "code",
   "execution_count": null,
   "id": "d860285e",
   "metadata": {},
   "outputs": [],
   "source": [
    "# now with numbers and roots\n",
    "R = 0.0083144626181532\n",
    "T = 923.15\n",
    "B = 12.81\n",
    "A0 = -151.26151\n",
    "A1 = -85.612615\n",
    "x = sym.Symbol('x')\n",
    "# tuning term x -> RT·Bx ???\n",
    "# c = R*T*B*x\n",
    "c = x\n",
    "mu = R*T*(c*sym.log(c) + (1-c) * sym.log(1-c))+c*(1-c)*(A0 + A1*(1-2*c))\n",
    "d1 = sym.diff(mu, x, 1) # first derivative\n",
    "d1 = sym.simplify(sym.expand(d1))\n",
    "d2 = sym.diff(mu, x, 2) # second derivative\n",
    "d2 = sym.simplify(sym.expand(d2))\n",
    "display(d1)\n",
    "display(d2)"
   ]
  },
  {
   "cell_type": "code",
   "execution_count": null,
   "id": "27b3ddc2",
   "metadata": {},
   "outputs": [],
   "source": [
    "# roots of first derivative\n",
    "sym.solveset(d1,x)\n",
    "sym.nsolve(d1, (0.35, 0.95), solver='bisect')"
   ]
  },
  {
   "cell_type": "code",
   "execution_count": null,
   "id": "642b81b9",
   "metadata": {},
   "outputs": [],
   "source": [
    "# roots of second derivative\n",
    "sym.solveset(d2,x)"
   ]
  },
  {
   "cell_type": "code",
   "execution_count": null,
   "id": "21bbf097",
   "metadata": {},
   "outputs": [],
   "source": [
    "display(mu.subs(x, 0.8121353), mu.subs(x, 0.9723917)) # from preprint\n",
    "\n",
    "plot(mu, (x, 0.7, 0.99))"
   ]
  },
  {
   "cell_type": "code",
   "execution_count": null,
   "id": "4e213472",
   "metadata": {
    "scrolled": false
   },
   "outputs": [],
   "source": [
    "plot(d1, (x, 0.35, 0.99))"
   ]
  },
  {
   "cell_type": "code",
   "execution_count": null,
   "id": "afb79959",
   "metadata": {},
   "outputs": [],
   "source": [
    "plot(d2, (x,0.7,0.99))"
   ]
  },
  {
   "cell_type": "code",
   "execution_count": null,
   "id": "8c541b3b",
   "metadata": {},
   "outputs": [],
   "source": []
  }
 ],
 "metadata": {
  "kernelspec": {
   "display_name": "Python 3 (ipykernel)",
   "language": "python",
   "name": "python3"
  },
  "language_info": {
   "codemirror_mode": {
    "name": "ipython",
    "version": 3
   },
   "file_extension": ".py",
   "mimetype": "text/x-python",
   "name": "python",
   "nbconvert_exporter": "python",
   "pygments_lexer": "ipython3",
   "version": "3.10.8"
  }
 },
 "nbformat": 4,
 "nbformat_minor": 5
}
