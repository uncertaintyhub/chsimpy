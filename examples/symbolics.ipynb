{
 "cells": [
  {
   "cell_type": "code",
   "execution_count": null,
   "id": "93bd4377",
   "metadata": {},
   "outputs": [],
   "source": [
    "import sympy as sym\n",
    "from sympy.plotting import plot"
   ]
  },
  {
   "cell_type": "code",
   "execution_count": null,
   "id": "2b9d1139",
   "metadata": {},
   "outputs": [],
   "source": [
    "# R c log(c) + (1 − c) log(1 − c)+c(1 − c) A0 + A1(1 − 2c)\n",
    "RT = sym.Symbol('RT')\n",
    "A0 = sym.Symbol('A0')\n",
    "A1 = sym.Symbol('A1')\n",
    "x = sym.Symbol('x')\n",
    "mu = RT*(x*sym.log(x) + (1-x) * sym.log(1-x))+x*(1-x)*(A0 + A1*(1-2*x))\n",
    "d1 = sym.diff(mu, x, 1) # first derivative\n",
    "d1 = sym.simplify(sym.expand(d1))\n",
    "d2 = sym.diff(mu, x, 2) # second derivative\n",
    "d2 = sym.simplify(sym.expand(d2))\n",
    "display(mu)\n",
    "display(d1)\n",
    "display(d2)"
   ]
  },
  {
   "cell_type": "code",
   "execution_count": null,
   "id": "ecb6a99b",
   "metadata": {},
   "outputs": [],
   "source": [
    "# now with numbers and roots\n",
    "R = 0.0083144626181532\n",
    "T = 923.15\n",
    "A0 = -151.26151\n",
    "A1 = -85.612615\n",
    "x = sym.Symbol('x')\n",
    "mu = R*T*(x*sym.log(x) + (1-x) * sym.log(1-x))+x*(1-x)*(A0 + A1*(1-2*x))\n",
    "d1 = sym.diff(mu, x, 1) # first derivative\n",
    "d1 = sym.simplify(sym.expand(d1))\n",
    "d2 = sym.diff(mu, x, 2) # second derivative\n",
    "d2 = sym.simplify(sym.expand(d2))\n",
    "display(d1)\n",
    "display(d2)"
   ]
  },
  {
   "cell_type": "code",
   "execution_count": null,
   "id": "0df97c43",
   "metadata": {},
   "outputs": [],
   "source": [
    "sym.solveset(d2,x)"
   ]
  },
  {
   "cell_type": "code",
   "execution_count": null,
   "id": "54b1bc9d",
   "metadata": {},
   "outputs": [],
   "source": [
    "plot(mu, (x, 0.7, 0.99))"
   ]
  },
  {
   "cell_type": "code",
   "execution_count": null,
   "id": "dfe9ce0e",
   "metadata": {
    "scrolled": false
   },
   "outputs": [],
   "source": [
    "plot(d1, (x, 0.7, 0.99))"
   ]
  },
  {
   "cell_type": "code",
   "execution_count": null,
   "id": "783a9684",
   "metadata": {},
   "outputs": [],
   "source": [
    "plot(d2, (x,0.7,0.99))"
   ]
  },
  {
   "cell_type": "code",
   "execution_count": null,
   "id": "7117bc25",
   "metadata": {},
   "outputs": [],
   "source": []
  }
 ],
 "metadata": {
  "kernelspec": {
   "display_name": "Python 3 (ipykernel)",
   "language": "python",
   "name": "python3"
  },
  "language_info": {
   "codemirror_mode": {
    "name": "ipython",
    "version": 3
   },
   "file_extension": ".py",
   "mimetype": "text/x-python",
   "name": "python",
   "nbconvert_exporter": "python",
   "pygments_lexer": "ipython3",
   "version": "3.10.8"
  }
 },
 "nbformat": 4,
 "nbformat_minor": 5
}
