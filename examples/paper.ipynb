{
 "cells": [
  {
   "cell_type": "code",
   "execution_count": null,
   "id": "957ef051",
   "metadata": {},
   "outputs": [],
   "source": [
    "from matplotlib import pyplot as plt\n",
    "from matplotlib import colors\n",
    "import matplotlib\n",
    "# matplotlib.artist.getp(fig.patch) # https://matplotlib.org/stable/tutorials/intermediate/artists.html#sphx-glr-tutorials-intermediate-artists-py\n",
    "import seaborn as sns\n",
    "import numpy as np\n",
    "import pandas as pd"
   ]
  },
  {
   "cell_type": "code",
   "execution_count": null,
   "id": "6cb94e05",
   "metadata": {},
   "outputs": [],
   "source": [
    "# usually this notebook is loaded as top-level-module and relative import of chsimpy does not work.\n",
    "# so we provide the path to the chsimpy package manually\n",
    "import pathlib\n",
    "import sys\n",
    "\n",
    "try:\n",
    "    import chsimpy\n",
    "except ImportError:\n",
    "    _parentdir = pathlib.Path(\"./\").resolve().parent\n",
    "    sys.path.insert(0, str(_parentdir))\n",
    "    import chsimpy\n",
    "    #sys.path.remove(str(_parentdir))\n",
    "\n",
    "# auto reload if chsimpy code changed\n",
    "%load_ext autoreload\n",
    "%autoreload 2"
   ]
  },
  {
   "cell_type": "code",
   "execution_count": null,
   "id": "5eb8c5b2",
   "metadata": {},
   "outputs": [],
   "source": [
    "dirfiles = '../_output/paper-1k'\n",
    "rawfile = f\"{dirfiles}/experiment-17022023-114325-raw.csv\"\n",
    "sysinfofile = f\"{dirfiles}/experiment-17022023-114325-sysinfo.csv\"\n",
    "aggfile = f\"{dirfiles}/experiment-17022023-114325-agg.csv\""
   ]
  },
  {
   "cell_type": "code",
   "execution_count": null,
   "id": "f55becc8",
   "metadata": {},
   "outputs": [],
   "source": [
    "dfagg = pd.read_csv(aggfile, index_col=0)\n",
    "dfraw = pd.read_csv(rawfile, index_col=['id'])\n",
    "dfraw = dfraw.drop(columns=dfraw.columns[0]) # drops unnamed column\n",
    "sysinfo = pd.read_csv(sysinfofile, header=None).T"
   ]
  },
  {
   "cell_type": "code",
   "execution_count": null,
   "id": "a8ab0a7b",
   "metadata": {},
   "outputs": [],
   "source": [
    "dfsys = sysinfo.iloc[0].str.split('=')\n",
    "keys = [ x[0] for x in dfsys]\n",
    "values = [ x[1].replace(\"'\", '') for x in dfsys]\n",
    "dfsys = pd.DataFrame(values, index=keys)"
   ]
  },
  {
   "cell_type": "code",
   "execution_count": null,
   "id": "4ce4f6b3",
   "metadata": {
    "scrolled": true
   },
   "outputs": [],
   "source": [
    "dfagg"
   ]
  },
  {
   "cell_type": "code",
   "execution_count": null,
   "id": "11560b9b",
   "metadata": {},
   "outputs": [],
   "source": [
    "dfraw"
   ]
  },
  {
   "cell_type": "code",
   "execution_count": null,
   "id": "dff6d629",
   "metadata": {},
   "outputs": [],
   "source": [
    "cacb = np.abs(dfraw.ca-dfraw.cb)\n",
    "#\n",
    "fig, axs = plt.subplots(nrows=3, ncols=2, figsize=(12, 10))\n",
    "#\n",
    "# nrow, ncol, index\n",
    "axs[0,0].plot(dfraw.A0, cacb, '.', ms=2)\n",
    "axs[0,0].set_xlabel('A0')\n",
    "axs[0,0].set_ylabel('|c_a - c_b|')\n",
    "\n",
    "axs[0,1].plot(dfraw.A1, cacb, '.', ms=2)\n",
    "axs[0,1].set_xlabel('A1')\n",
    "axs[0,1].set_ylabel('|c_a - c_b|')\n",
    "\n",
    "axs[1,0].plot(dfraw.A0, dfraw.tsep, '.', ms=2, c='purple')\n",
    "axs[1,0].set_xlabel('A0')\n",
    "axs[1,0].set_ylabel('t_sep')\n",
    "\n",
    "axs[1,1].plot(dfraw.A1, dfraw.tsep, '.', ms=2, c='purple')\n",
    "axs[1,1].set_xlabel('A1')\n",
    "axs[1,1].set_ylabel('t_sep')\n",
    "\n",
    "axs[2,0].plot(cacb, dfraw.tsep, '.', ms=2, c='y')\n",
    "axs[2,0].set_xlabel('|c_a - c_b|')\n",
    "axs[2,0].set_ylabel('t_sep')\n",
    "\n",
    "dfcacb = pd.melt(dfraw[['cb','ca']])\n",
    "sns.boxplot(y=\"variable\", x=\"value\", data=dfcacb, ax=axs[2,1])\n",
    "#axs[2,1].plot(cacb, dfraw.tsep-dfraw.tau0, '.', ms=2, c='y')\n",
    "axs[2,1].set_xlabel('c_* for T = 923.15K')\n",
    "axs[2,1].set_ylabel('')\n",
    "\n",
    "display(fig)\n",
    "matplotlib.pyplot.close()"
   ]
  },
  {
   "cell_type": "code",
   "execution_count": null,
   "id": "2ed7ad41",
   "metadata": {},
   "outputs": [],
   "source": [
    "fig, axs = plt.subplots(nrows=2, ncols=1, figsize=(8, 5), sharex=True, gridspec_kw={'height_ratios': [3, 1]})\n",
    "#\n",
    "# nrow, ncol, index\n",
    "sns.kdeplot(dfraw.tsep, ax=axs[0])\n",
    "axs[0].set_xlabel('')\n",
    "axs[0].set_ylabel('dist')\n",
    "\n",
    "sns.boxplot(dfraw.tsep, orient='h', ax=axs[1])\n",
    "axs[1].set_xlabel('iterations')\n",
    "axs[1].set_ylabel('')\n",
    "axs[1].set(yticklabels=[])\n",
    "\n",
    "display(fig)\n",
    "matplotlib.pyplot.close()"
   ]
  },
  {
   "cell_type": "code",
   "execution_count": null,
   "id": "d85f1251",
   "metadata": {},
   "outputs": [],
   "source": [
    "from IPython.display import Math\n",
    "import sympy as sym\n",
    "from sympy.plotting import plot as symplot\n",
    "sym.init_printing()  # automatically enable the best printer available in your environment.\n",
    "import seaborn as sns\n",
    "sns.set()\n",
    "sns.set_style(\"whitegrid\", {'grid.linestyle': '--'})"
   ]
  },
  {
   "cell_type": "code",
   "execution_count": null,
   "id": "e00ed73e",
   "metadata": {},
   "outputs": [],
   "source": [
    "R = 0.0083144626181532\n",
    "B = 12.81\n",
    "Ts = 923.15 + np.arange(-100,200,25)\n",
    "count = Ts.shape[0]\n",
    "x0 = np.linspace(0.7,0.825,count)\n",
    "x1 = np.linspace(0.0001,0.01,count)\n",
    "ca = np.zeros(count)\n",
    "cb = np.zeros(count)\n",
    "for i in range(0, count):\n",
    "    T = Ts[i]\n",
    "    A0 = 186.0575 - 0.3654*T\n",
    "    A1 = 43.7207 - 0.1401*T\n",
    "    print(T)\n",
    "    cacb = chsimpy.utils.get_miscibility_gap(R=R, T=T, B=B, A0=A0, A1=A1,\n",
    "                                             xlower=x0[i], xupper=1.0-x1[i], prec=10)\n",
    "    ca[i] = cacb[0]\n",
    "    cb[i] = cacb[1]\n",
    "    #print(T, ca[i], cb[i])\n",
    "\n",
    "fig, axs = plt.subplots(nrows=1, ncols=1, figsize=(6, 5))\n",
    "#\n",
    "# nrow, ncol, index\n",
    "axs.plot((ca,cb), (Ts,Ts), 'o', ms=4, color='black')\n",
    "axs.set_xlim((0.7, 1.0))\n",
    "display(fig)\n",
    "matplotlib.pyplot.close()"
   ]
  },
  {
   "cell_type": "code",
   "execution_count": null,
   "id": "cb1bcfc8",
   "metadata": {},
   "outputs": [],
   "source": [
    "R = 0.0083144626181532\n",
    "T = 923.15\n",
    "B = 12.81\n",
    "A0 = -151.26151  # 186.0575 - 0.3654*T;  % in kJ / mol\n",
    "A1 = -85.612615  # 43.7207 - 0.1401*T;  % in kJ / mol\n",
    "RTB=R*T*B\n",
    "x = sym.Symbol('x', real=True)\n",
    "c = x  # c acts a placeholder for x, x1, x2, ..\n",
    "\n",
    "E = (R*T * (c*(sym.log(c) - B) + (1-c)*sym.log(1-c)) + (A0 + A1*(1-2*c)) * c * (1-c)) #+ 0.5*eps2*du2\n",
    "\n",
    "cacb = chsimpy.utils.get_miscibility_gap(R=R, T=T, B=B, A0=A0, A1=A1)\n",
    "ca = cacb[0]\n",
    "cb = cacb[1]"
   ]
  },
  {
   "cell_type": "code",
   "execution_count": null,
   "id": "3868e785",
   "metadata": {},
   "outputs": [],
   "source": [
    "jitter_Arellow = 0.995\n",
    "jitter_Arelhigh = 1.005\n",
    "runs = 100\n",
    "\n",
    "rng = np.random.default_rng(2023)\n",
    "randv = rng.uniform(jitter_Arellow, jitter_Arelhigh, size=(2, runs))\n",
    "seta0 = A0 * randv[0]\n",
    "seta1 = A1 * randv[1]"
   ]
  },
  {
   "cell_type": "code",
   "execution_count": null,
   "id": "8fb70f73",
   "metadata": {},
   "outputs": [],
   "source": [
    "c = x\n",
    "E = (R*T * (c*(sym.log(c) - B) + (1-c)*sym.log(1-c)) + (A0 + A1*(1-2*c)) * c * (1-c))\n",
    "m = (E.subs(x, cb) - E.subs(x, ca))/(cb-ca)\n",
    "\n",
    "p1 = symplot(E, (x, 0.7, 0.999), show=False, \n",
    "             line_color='black', \n",
    "             backend='matplotlib',\n",
    "             axis_center=[0.69, -98.7],\n",
    "             xlabel='mole fraction (SiO_2)', ylabel='energy per mole')\n",
    "for i in range(0, runs):\n",
    "    A0 = seta0[i]\n",
    "    A1 = seta1[i]\n",
    "    Etmp = (R*T * (c*(sym.log(c) - B) + (1-c)*sym.log(1-c)) + (A0 + A1*(1-2*c)) * c * (1-c))\n",
    "    ptmp = symplot(Etmp, (x, 0.7, 0.999), show=False, line_color='0.8')\n",
    "    p1.append(ptmp[0])\n",
    "p1.append(p1[0]) # again, just for overdrawing\n",
    "# tangent for p1\n",
    "p2 = symplot(m*(x-ca)+E.subs(x, ca), (x, 0.7, 0.999), show=False, line_color='blue')\n",
    "p1.append(p2[0])\n",
    "p1.show()"
   ]
  },
  {
   "cell_type": "code",
   "execution_count": null,
   "id": "dd887c39",
   "metadata": {
    "scrolled": false
   },
   "outputs": [],
   "source": [
    "R = 0.0083144626181532\n",
    "B = 12.81\n",
    "T0 = 923.15\n",
    "Ts = [T0, T0+150]\n",
    "A0 = -151.26151\n",
    "A1 = -85.612615\n",
    "c = x\n",
    "E = (R*Ts[0] * (c*(sym.log(c) - B) + (1-c)*sym.log(1-c)) + (A0 + A1*(1-2*c)) * c * (1-c))\n",
    "\n",
    "p1 = symplot(E, (x, 0.7, 0.999), show=False, \n",
    "             line_color='black', \n",
    "             backend='matplotlib',\n",
    "             axis_center=[0.69, -98.5],\n",
    "             title=f\"T={Ts[0]}\",\n",
    "             xlabel='mole fraction (SiO_2)', ylabel='energy per mole')\n",
    "\n",
    "A0 = 186.0575 - 0.3654*Ts[1]\n",
    "A1 = 43.7207 - 0.1401*Ts[1]\n",
    "Etmp = (R*Ts[1] * (c*(sym.log(c) - B) + (1-c)*sym.log(1-c)) + (A0 + A1*(1-2*c)) * c * (1-c))\n",
    "p2 = symplot(Etmp, (x, 0.7, 0.999), show=False, \n",
    "             line_color='0.2',\n",
    "             axis_center=[0.69, -120.0],\n",
    "             title=f\"T={Ts[1]}\",\n",
    "             xlabel='mole fraction (SiO_2)', ylabel='energy per mole'\n",
    "            )\n",
    "\n",
    "plotgrid = sym.plotting.PlotGrid(1, 2, p1, p2, show=False, size=(10, 5))\n",
    "plotgrid.show()"
   ]
  },
  {
   "cell_type": "code",
   "execution_count": null,
   "id": "3d03f81c",
   "metadata": {},
   "outputs": [],
   "source": [
    "R = 0.0083144626181532\n",
    "B = 12.81\n",
    "T0 = 923.15\n",
    "T = T0+150\n",
    "A0 = -151.26151\n",
    "A1 = -85.612615\n",
    "chsimpy.utils.get_miscibility_gap(R=R, T=T, B=B, A0=A0, A1=A1,\n",
    "                                  xlower=0.85, xupper=0.99, prec=10)"
   ]
  },
  {
   "cell_type": "code",
   "execution_count": null,
   "id": "162383ec",
   "metadata": {},
   "outputs": [],
   "source": [
    "import glob, os\n",
    "# solution-17022023-114325-run106.E.csv.bz2\n",
    "files_E = glob.glob(dirfiles+r'/solution-17022023-114325-run*.E.csv.bz2')\n",
    "\n",
    "# listE = []\n",
    "\n",
    "# for filename in files_E:\n",
    "#     #E = pd.read_csv(f\"{dirfiles}/{filename}\", sep=',', header=None, compression='bz2').values\n",
    "#     E = chsimpy.utils.csv_load_matrix(filename)\n",
    "#     listE.append(E)"
   ]
  },
  {
   "cell_type": "code",
   "execution_count": null,
   "id": "254e6b9e",
   "metadata": {},
   "outputs": [],
   "source": [
    "import numpy as np\n",
    "from mpl_toolkits.mplot3d import Axes3D  \n",
    "# Axes3D import has side effects, it enables using projection='3d' in add_subplot\n",
    "import matplotlib.pyplot as plt\n",
    "\n",
    "fig = plt.figure()\n",
    "ax = fig.add_subplot(111, projection='3d')\n",
    "x = dfraw.A0\n",
    "y = dfraw.A1\n",
    "X, Y = np.meshgrid(x, y)\n",
    "zs = np.array(np.ravel(dfraw.tsep))\n",
    "Z = zs.reshape(X.shape)\n",
    "\n",
    "ax.plot_surface(X, Y, Z)"
   ]
  }
 ],
 "metadata": {
  "kernelspec": {
   "display_name": "Python 3 (ipykernel)",
   "language": "python",
   "name": "python3"
  },
  "language_info": {
   "codemirror_mode": {
    "name": "ipython",
    "version": 3
   },
   "file_extension": ".py",
   "mimetype": "text/x-python",
   "name": "python",
   "nbconvert_exporter": "python",
   "pygments_lexer": "ipython3",
   "version": "3.10.9"
  }
 },
 "nbformat": 4,
 "nbformat_minor": 5
}
