{
 "cells": [
  {
   "cell_type": "code",
   "execution_count": null,
   "id": "957ef051",
   "metadata": {},
   "outputs": [],
   "source": [
    "from matplotlib import pyplot as plt\n",
    "from matplotlib import colors\n",
    "import matplotlib\n",
    "# matplotlib.artist.getp(fig.patch) # https://matplotlib.org/stable/tutorials/intermediate/artists.html#sphx-glr-tutorials-intermediate-artists-py\n",
    "import seaborn as sns\n",
    "import numpy as np\n",
    "import pandas as pd"
   ]
  },
  {
   "cell_type": "code",
   "execution_count": null,
   "id": "6cb94e05",
   "metadata": {},
   "outputs": [],
   "source": [
    "# usually this notebook is loaded as top-level-module and relative import of chsimpy does not work.\n",
    "# so we provide the path to the chsimpy package manually\n",
    "import pathlib\n",
    "import sys\n",
    "\n",
    "try:\n",
    "    import chsimpy\n",
    "except ImportError:\n",
    "    _parentdir = pathlib.Path(\"./\").resolve().parent\n",
    "    sys.path.insert(0, str(_parentdir))\n",
    "    import chsimpy\n",
    "    #sys.path.remove(str(_parentdir))\n",
    "\n",
    "# auto reload if chsimpy code changed\n",
    "%load_ext autoreload\n",
    "%autoreload 2"
   ]
  },
  {
   "cell_type": "code",
   "execution_count": null,
   "id": "5eb8c5b2",
   "metadata": {},
   "outputs": [],
   "source": [
    "dirfiles = '../_output/paper-1k'\n",
    "rawfile = f\"{dirfiles}/experiment-17022023-114325-raw.csv\"\n",
    "sysinfofile = f\"{dirfiles}/experiment-17022023-114325-sysinfo.csv\"\n",
    "aggfile = f\"{dirfiles}/experiment-17022023-114325-agg.csv\""
   ]
  },
  {
   "cell_type": "code",
   "execution_count": null,
   "id": "f55becc8",
   "metadata": {},
   "outputs": [],
   "source": [
    "dfagg = pd.read_csv(aggfile, index_col=0)\n",
    "dfraw = pd.read_csv(rawfile, index_col=['id'])\n",
    "dfraw = dfraw.drop(columns=dfraw.columns[0]) # drops unnamed column\n",
    "sysinfo = pd.read_csv(sysinfofile, header=None).T"
   ]
  },
  {
   "cell_type": "code",
   "execution_count": null,
   "id": "a8ab0a7b",
   "metadata": {},
   "outputs": [],
   "source": [
    "dfsys = sysinfo.iloc[0].str.split('=')\n",
    "keys = [ x[0] for x in dfsys]\n",
    "values = [ x[1].replace(\"'\", '') for x in dfsys]\n",
    "dfsys = pd.DataFrame(values, index=keys)"
   ]
  },
  {
   "cell_type": "code",
   "execution_count": null,
   "id": "4ce4f6b3",
   "metadata": {
    "scrolled": true
   },
   "outputs": [],
   "source": [
    "dfagg"
   ]
  },
  {
   "cell_type": "code",
   "execution_count": null,
   "id": "11560b9b",
   "metadata": {},
   "outputs": [],
   "source": [
    "dfraw"
   ]
  },
  {
   "cell_type": "code",
   "execution_count": null,
   "id": "dff6d629",
   "metadata": {},
   "outputs": [],
   "source": [
    "cacb = np.abs(dfraw.ca-dfraw.cb)\n",
    "#\n",
    "fig, axs = plt.subplots(nrows=3, ncols=2, figsize=(12, 10))\n",
    "#\n",
    "# nrow, ncol, index\n",
    "axs[0,0].plot(dfraw.A0, cacb, '.', ms=2)\n",
    "axs[0,0].set_xlabel('A0')\n",
    "axs[0,0].set_ylabel('|c_a - c_b|')\n",
    "\n",
    "axs[0,1].plot(dfraw.A1, cacb, '.', ms=2)\n",
    "axs[0,1].set_xlabel('A1')\n",
    "axs[0,1].set_ylabel('|c_a - c_b|')\n",
    "\n",
    "axs[1,0].plot(dfraw.A0, dfraw.tsep, '.', ms=2, c='purple')\n",
    "axs[1,0].set_xlabel('A0')\n",
    "axs[1,0].set_ylabel('t_sep')\n",
    "\n",
    "axs[1,1].plot(dfraw.A1, dfraw.tsep, '.', ms=2, c='purple')\n",
    "axs[1,1].set_xlabel('A1')\n",
    "axs[1,1].set_ylabel('t_sep')\n",
    "\n",
    "axs[2,0].plot(cacb, dfraw.tsep, '.', ms=2, c='y')\n",
    "axs[2,0].set_xlabel('|c_a - c_b|')\n",
    "axs[2,0].set_ylabel('t_sep')\n",
    "\n",
    "dfcacb = pd.melt(dfraw[['cb','ca']])\n",
    "sns.boxplot(y=\"variable\", x=\"value\", data=dfcacb, ax=axs[2,1])\n",
    "#axs[2,1].plot(cacb, dfraw.tsep-dfraw.tau0, '.', ms=2, c='y')\n",
    "axs[2,1].set_xlabel('c_* for T = 923.15K')\n",
    "axs[2,1].set_ylabel('')\n",
    "\n",
    "display(fig)\n",
    "matplotlib.pyplot.close()"
   ]
  },
  {
   "cell_type": "code",
   "execution_count": null,
   "id": "2ed7ad41",
   "metadata": {},
   "outputs": [],
   "source": [
    "fig, axs = plt.subplots(nrows=2, ncols=1, figsize=(8, 5), sharex=True)\n",
    "#\n",
    "# nrow, ncol, index\n",
    "sns.kdeplot(dfraw.tsep, ax=axs[0])\n",
    "axs[0].set_xlabel('')\n",
    "axs[0].set_ylabel('dist')\n",
    "\n",
    "sns.boxplot(dfraw.tsep, orient='h', ax=axs[1])\n",
    "axs[1].set_xlabel('iterations')\n",
    "axs[1].set_ylabel('')\n",
    "\n",
    "display(fig)\n",
    "matplotlib.pyplot.close()"
   ]
  },
  {
   "cell_type": "code",
   "execution_count": null,
   "id": "162383ec",
   "metadata": {},
   "outputs": [],
   "source": [
    "import glob, os\n",
    "# solution-17022023-114325-run106.E.csv.bz2\n",
    "files_E = glob.glob(dirfiles+r'/solution-17022023-114325-run*.E.csv.bz2')\n",
    "\n",
    "# listE = []\n",
    "\n",
    "# for filename in files_E:\n",
    "#     #E = pd.read_csv(f\"{dirfiles}/{filename}\", sep=',', header=None, compression='bz2').values\n",
    "#     E = chsimpy.utils.csv_load_matrix(filename)\n",
    "#     listE.append(E)"
   ]
  },
  {
   "cell_type": "code",
   "execution_count": null,
   "id": "254e6b9e",
   "metadata": {},
   "outputs": [],
   "source": [
    "import numpy as np\n",
    "from mpl_toolkits.mplot3d import Axes3D  \n",
    "# Axes3D import has side effects, it enables using projection='3d' in add_subplot\n",
    "import matplotlib.pyplot as plt\n",
    "\n",
    "fig = plt.figure()\n",
    "ax = fig.add_subplot(111, projection='3d')\n",
    "x = dfraw.A0\n",
    "y = dfraw.A1\n",
    "X, Y = np.meshgrid(x, y)\n",
    "zs = np.array(np.ravel(dfraw.tsep))\n",
    "Z = zs.reshape(X.shape)\n",
    "\n",
    "ax.plot_surface(X, Y, Z)"
   ]
  }
 ],
 "metadata": {
  "kernelspec": {
   "display_name": "Python 3 (ipykernel)",
   "language": "python",
   "name": "python3"
  },
  "language_info": {
   "codemirror_mode": {
    "name": "ipython",
    "version": 3
   },
   "file_extension": ".py",
   "mimetype": "text/x-python",
   "name": "python",
   "nbconvert_exporter": "python",
   "pygments_lexer": "ipython3",
   "version": "3.10.8"
  }
 },
 "nbformat": 4,
 "nbformat_minor": 5
}
