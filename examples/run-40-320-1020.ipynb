{
 "cells": [
  {
   "cell_type": "code",
   "execution_count": null,
   "id": "dbb7aaed",
   "metadata": {},
   "outputs": [],
   "source": [
    "from matplotlib import pyplot as plt\n",
    "from matplotlib import colors\n",
    "import matplotlib\n",
    "import numpy as np\n",
    "\n",
    "# usually this notebook is loaded as top-level-module and relative import of chsimpy does not work.\n",
    "# so we provide the path to the chsimpy package manually\n",
    "import pathlib\n",
    "import sys\n",
    "\n",
    "try:\n",
    "    import chsimpy\n",
    "except ImportError:\n",
    "    _parentdir = pathlib.Path(\"./\").resolve().parent\n",
    "    sys.path.insert(0, str(_parentdir))\n",
    "    import chsimpy\n",
    "    #sys.path.remove(str(_parentdir))\n",
    "\n",
    "# auto reload if chsimpy code changed\n",
    "%load_ext autoreload\n",
    "%autoreload 2\n",
    "\n",
    "def clear_plots():\n",
    "    plt.clf()\n",
    "    plt.close('all')"
   ]
  },
  {
   "cell_type": "code",
   "execution_count": null,
   "id": "131715db",
   "metadata": {},
   "outputs": [],
   "source": [
    "%matplotlib widget\n",
    "from chsimpy import *\n",
    "simulator = None"
   ]
  },
  {
   "cell_type": "code",
   "execution_count": null,
   "id": "b0d31a61",
   "metadata": {},
   "outputs": [],
   "source": [
    "params = Parameters()  # initial parameter configuration\n",
    "\n",
    "params.N = 512  # resolution (NxN image)\n",
    "params.ntmax = 20  # maximal number of simulation steps\n",
    "#params.time_max = 40  # max sim time in minutes, ignores ntmax\n",
    "params.full_sim = True  # False -> will stop early when energy falls\n",
    "\n",
    "params.XXX = 0.89  # mean initial concentration of U\n",
    "params.threshold = params.XXX  # threshold value to determine components A and B in U\n",
    "\n",
    "params.delt = 1e-11  # timestep delta dt\n",
    "# params.kappa_base = 30  # for kappa = kappa_base / 105.1939\n",
    "# params.M = 2e-11  # mobility factor\n",
    "\n",
    "params.yaml = False  # do (not) export to yaml (metadata)\n",
    "params.png = False  # do (not) export to PNG\n",
    "params.export_csv = None  # can be a enumeration like 'U,E,E2,SA'\n",
    "params.no_diagrams = False  # render only concentration image of U\n",
    "# params.update_every = 5  # update view every x steps\n",
    "params.file_id = f\"N{params.N}-{params.time_max}min-{params.XXX}\"  # existing files will be overwritten\n",
    "\n",
    "# init simulation with parameters\n",
    "simulator = Simulator(params)\n",
    "\n",
    "# str(params)  # show all parameters"
   ]
  },
  {
   "cell_type": "code",
   "execution_count": null,
   "id": "7100aa0f",
   "metadata": {},
   "outputs": [],
   "source": [
    "# clear_plots()\n",
    "solution = simulator.solve()\n",
    "simulator.render()\n",
    "\n",
    "# simulator.export()  # export yaml, png, csv if provided in parameters (yaml, png, png_anim, export_csv, file_id)"
   ]
  },
  {
   "cell_type": "code",
   "execution_count": null,
   "id": "3986d7d2",
   "metadata": {},
   "outputs": [],
   "source": [
    "clear_plots()\n",
    "\n",
    "U = solution.U\n",
    "N = simulator.solver.params.N\n",
    "\n",
    "# colormap, https://matplotlib.org/stable/gallery/color/custom_cmap.html\n",
    "cmap = colors.LinearSegmentedColormap.from_list('mylist', ['orange', 'yellow'], N=25)\n",
    "\n",
    "fig, ax1 = plt.subplots(nrows=1, ncols=1,\n",
    "                        figsize=(4, 4),\n",
    "                        layout=None,\n",
    "                        gridspec_kw={'wspace': 0.,\n",
    "                                     'hspace': 0.,\n",
    "                                     'top': 1,\n",
    "                                     'right': 1,\n",
    "                                     'bottom': 0.,\n",
    "                                     'left': 0.\n",
    "                                    },\n",
    "                        clear=True)\n",
    "ax1.imshow(U, cmap=cmap, aspect=\"equal\")\n",
    "ax1.axis(False)\n",
    "plt.show()"
   ]
  },
  {
   "cell_type": "code",
   "execution_count": null,
   "id": "85397a39",
   "metadata": {},
   "outputs": [],
   "source": []
  }
 ],
 "metadata": {
  "kernelspec": {
   "display_name": "Python 3 (ipykernel)",
   "language": "python",
   "name": "python3"
  },
  "language_info": {
   "codemirror_mode": {
    "name": "ipython",
    "version": 3
   },
   "file_extension": ".py",
   "mimetype": "text/x-python",
   "name": "python",
   "nbconvert_exporter": "python",
   "pygments_lexer": "ipython3",
   "version": "3.9.16"
  }
 },
 "nbformat": 4,
 "nbformat_minor": 5
}
