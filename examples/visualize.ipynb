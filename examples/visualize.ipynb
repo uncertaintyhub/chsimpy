{
 "cells": [
  {
   "cell_type": "code",
   "execution_count": null,
   "id": "de877ade",
   "metadata": {},
   "outputs": [],
   "source": [
    "# load chsimpy \n",
    "import importlib\n",
    "import pathlib\n",
    "import sys\n",
    "\n",
    "try:\n",
    "    import chsimpy\n",
    "except ImportError:\n",
    "    _parentdir = pathlib.Path(\"./\").resolve().parent\n",
    "    sys.path.insert(0, str(_parentdir))\n",
    "    import chsimpy\n",
    "    #sys.path.remove(str(_parentdir))"
   ]
  },
  {
   "cell_type": "code",
   "execution_count": null,
   "id": "bdebf18c",
   "metadata": {},
   "outputs": [],
   "source": [
    "# if code has changed, reload here\n",
    "importlib.reload(chsimpy)\n",
    "\n",
    "importlib.reload(chsimpy.parameters)\n",
    "importlib.reload(chsimpy.solution)\n",
    "importlib.reload(chsimpy.solver)\n",
    "importlib.reload(chsimpy.simulator)\n",
    "importlib.reload(chsimpy.plotview)\n",
    "importlib.reload(chsimpy.utils)\n",
    "importlib.reload(chsimpy.mport)"
   ]
  },
  {
   "cell_type": "code",
   "execution_count": null,
   "id": "3347c40b",
   "metadata": {},
   "outputs": [],
   "source": [
    "from matplotlib import pyplot as plt\n",
    "from matplotlib import colors\n",
    "import matplotlib\n",
    "# matplotlib.artist.getp(fig.patch) # https://matplotlib.org/stable/tutorials/intermediate/artists.html#sphx-glr-tutorials-intermediate-artists-py\n",
    "import numpy as np"
   ]
  },
  {
   "cell_type": "code",
   "execution_count": null,
   "id": "a315ef85",
   "metadata": {},
   "outputs": [],
   "source": [
    "# U = chsimpy.utils.csv_load_matrix('../validation/U-matlab-lcg-N512n100.csv.bz2')\n",
    "U = chsimpy.utils.csv_load_matrix('../_output/test-kappa/var2/solution-test-kappa-100-n100k.U.csv')\n",
    "Ureal = np.real(U)\n",
    "N = U.shape[0]\n",
    "th = 0.9  # threshold\n",
    "\n",
    "# colormap, https://matplotlib.org/2.0.2/users/colormaps.html\n",
    "cmap = colors.ListedColormap(['orange', 'yellow'])\n",
    "boundaries = [0.0, th, 1]\n",
    "norm = colors.BoundaryNorm(boundaries, cmap.N, clip=True)\n",
    "\n",
    "fig = plt.figure(figsize=(12,5))\n",
    "# nrow, ncol, index\n",
    "ax1 = fig.add_subplot(1, 2, 1)\n",
    "\n",
    "ax1.imshow(Ureal, cmap=cmap, norm=norm, aspect=\"equal\")\n",
    "#ax1.imshow(Ureal, cmap=\"plasma\", aspect=\"equal\")\n",
    "\n",
    "ax2 = fig.add_subplot(1, 2, 2) \n",
    "\n",
    "#ax.cla()\n",
    "#ax2.set_xlim(0, N)\n",
    "#ax2.set_ylim(0.5, 1)\n",
    "\n",
    "# https://matplotlib.org/2.0.2/users/colormaps.html\n",
    "ax2.plot(np.arange(0,N), Ureal[int(N / 2)+1,:])\n",
    "\n",
    "display(fig)\n",
    "#plt.pause(0.5)\n",
    "matplotlib.pyplot.close()"
   ]
  },
  {
   "cell_type": "code",
   "execution_count": null,
   "id": "f21edbdf",
   "metadata": {},
   "outputs": [],
   "source": [
    "th = 0.83\n",
    "\n",
    "fig = plt.figure(figsize=(12,5))\n",
    "#\n",
    "cmap = colors.ListedColormap(['orange', 'yellow'])\n",
    "boundaries = [0.0, th, 1]\n",
    "norm = colors.BoundaryNorm(boundaries, cmap.N, clip=True)\n",
    "# nrow, ncol, index\n",
    "ax1 = fig.add_subplot(1, 2, 1)\n",
    "ax1.imshow(Ureal, cmap=cmap, norm=norm, aspect=\"equal\")\n",
    "ax2 = fig.add_subplot(1, 2, 2) \n",
    "ax2.imshow(Ureal, cmap=\"gist_ncar\", aspect=\"equal\")\n",
    "\n",
    "display(fig)\n",
    "#plt.pause(0.5)\n",
    "matplotlib.pyplot.close()"
   ]
  }
 ],
 "metadata": {
  "kernelspec": {
   "display_name": "Python 3 (ipykernel)",
   "language": "python",
   "name": "python3"
  },
  "language_info": {
   "codemirror_mode": {
    "name": "ipython",
    "version": 3
   },
   "file_extension": ".py",
   "mimetype": "text/x-python",
   "name": "python",
   "nbconvert_exporter": "python",
   "pygments_lexer": "ipython3",
   "version": "3.10.8"
  }
 },
 "nbformat": 4,
 "nbformat_minor": 5
}
