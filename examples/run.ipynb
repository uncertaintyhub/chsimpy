{
 "cells": [
  {
   "cell_type": "code",
   "execution_count": null,
   "id": "6220b5d8",
   "metadata": {
    "scrolled": true
   },
   "outputs": [],
   "source": [
    "# load chsimpy \n",
    "import importlib\n",
    "import pathlib\n",
    "import sys\n",
    "\n",
    "try:\n",
    "    import chsimpy\n",
    "except ImportError:\n",
    "    _parentdir = pathlib.Path(\"./\").resolve().parent\n",
    "    sys.path.insert(0, str(_parentdir))\n",
    "    import chsimpy\n",
    "    #sys.path.remove(str(_parentdir))"
   ]
  },
  {
   "cell_type": "code",
   "execution_count": null,
   "id": "174a9f92",
   "metadata": {},
   "outputs": [],
   "source": [
    "# if code has changed, reload here\n",
    "importlib.reload(chsimpy)\n",
    "\n",
    "importlib.reload(chsimpy.parameters)\n",
    "importlib.reload(chsimpy.solution)\n",
    "importlib.reload(chsimpy.solver)\n",
    "importlib.reload(chsimpy.simulator)\n",
    "importlib.reload(chsimpy.timedata)\n",
    "importlib.reload(chsimpy.plotview)\n",
    "importlib.reload(chsimpy.utils)\n",
    "importlib.reload(chsimpy.mport)"
   ]
  },
  {
   "cell_type": "code",
   "execution_count": null,
   "id": "367493bc",
   "metadata": {
    "scrolled": false
   },
   "outputs": [],
   "source": [
    "params = chsimpy.parameters.Parameters()  # initial parameter configuration\n",
    "params.N = 512  # resolution (NxN image)\n",
    "params.ntmax = 120  # maximal number of simulation steps\n",
    "params.threshold = 0.9  # threshold value to determine components A and B in U\n",
    "params.delt = 1e-11\n",
    "params.delt_max = 1e-9\n",
    "params.adaptive_time = True\n",
    "params.M = 9e-12  # mobility factor\n",
    "params.full_sim = False  # False -> will stop early when energy falls\n",
    "params.render_target='gui'  # '+png' renders to PNG, '+yaml' dumps metadata, ... \n",
    "\n",
    "# give it to chsimpy controller\n",
    "simulator = chsimpy.simulator.Simulator(params)\n",
    "\n",
    "# vars(params)  # show all parameters"
   ]
  },
  {
   "cell_type": "code",
   "execution_count": null,
   "id": "a8b85838",
   "metadata": {},
   "outputs": [],
   "source": [
    "# initial U as needed (you can skip this block)\n",
    "import numpy as np\n",
    "rng = np.random.default_rng(seed=2023)\n",
    "U_0 = 0.875 + (0.01 * (rng.random((params.N, params.N)) - 0.5))\n",
    "# give it to chsimpy controller\n",
    "simulator = chsimpy.simulator.Simulator(params, U_0)"
   ]
  },
  {
   "cell_type": "code",
   "execution_count": null,
   "id": "13554b80",
   "metadata": {
    "scrolled": false
   },
   "outputs": [],
   "source": [
    "# solve and render it\n",
    "# simulator.solve()\n",
    "# simulator.render()\n",
    "# solution = simulator.solution\n",
    "solution = simulator.solve()\n",
    "simulator.render()"
   ]
  },
  {
   "cell_type": "code",
   "execution_count": null,
   "id": "cb175a2c",
   "metadata": {},
   "outputs": [],
   "source": [
    "from matplotlib import pyplot as plt\n",
    "from matplotlib import colors\n",
    "import matplotlib\n",
    "import pandas as pd\n",
    "# matplotlib.artist.getp(fig.patch) # https://matplotlib.org/stable/tutorials/intermediate/artists.html#sphx-glr-tutorials-intermediate-artists-py"
   ]
  },
  {
   "cell_type": "code",
   "execution_count": null,
   "id": "f8461e51",
   "metadata": {
    "scrolled": false
   },
   "outputs": [],
   "source": [
    "U = solution.U\n",
    "Ureal = np.real(U)\n",
    "N = simulator.solver.params.N\n",
    "th = 0.9  # threshold\n",
    "\n",
    "# colormap, https://matplotlib.org/2.0.2/users/colormaps.html\n",
    "cmap = colors.ListedColormap(['orange', 'yellow'])\n",
    "boundaries = [0.0, th, 1]\n",
    "norm = colors.BoundaryNorm(boundaries, cmap.N, clip=True)\n",
    "\n",
    "fig = plt.figure(figsize=(12,5))\n",
    "# nrow, ncol, index\n",
    "ax1 = fig.add_subplot(1, 2, 1)\n",
    "\n",
    "#ax1.imshow(Ureal, cmap=cmap, norm=norm, aspect=\"equal\")\n",
    "ax1.imshow(Ureal, cmap=\"plasma\", aspect=\"equal\")\n",
    "\n",
    "ax2 = fig.add_subplot(1, 2, 2) \n",
    "\n",
    "#ax.cla()\n",
    "#ax2.set_xlim(0, N)\n",
    "#ax2.set_ylim(0.5, 1)\n",
    "\n",
    "# https://matplotlib.org/2.0.2/users/colormaps.html\n",
    "ax2.plot(np.arange(0,N), Ureal[int(N / 2)+1,:])\n",
    "\n",
    "display(fig)\n",
    "#plt.pause(0.5)\n",
    "matplotlib.pyplot.close()"
   ]
  }
 ],
 "metadata": {
  "hide_input": false,
  "kernelspec": {
   "display_name": "Python 3 (ipykernel)",
   "language": "python",
   "name": "python3"
  },
  "language_info": {
   "codemirror_mode": {
    "name": "ipython",
    "version": 3
   },
   "file_extension": ".py",
   "mimetype": "text/x-python",
   "name": "python",
   "nbconvert_exporter": "python",
   "pygments_lexer": "ipython3",
   "version": "3.10.8"
  },
  "toc": {
   "base_numbering": 1,
   "nav_menu": {},
   "number_sections": true,
   "sideBar": true,
   "skip_h1_title": false,
   "title_cell": "Table of Contents",
   "title_sidebar": "Contents",
   "toc_cell": false,
   "toc_position": {},
   "toc_section_display": true,
   "toc_window_display": false
  }
 },
 "nbformat": 4,
 "nbformat_minor": 5
}
