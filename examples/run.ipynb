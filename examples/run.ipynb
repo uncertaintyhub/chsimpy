{
 "cells": [
  {
   "cell_type": "code",
   "execution_count": null,
   "id": "6220b5d8",
   "metadata": {},
   "outputs": [],
   "source": [
    "import numpy as np\n",
    "import importlib\n",
    "\n",
    "import pathlib\n",
    "import sys\n",
    "\n",
    "try:\n",
    "    import chsimpy\n",
    "except ImportError:\n",
    "    _parentdir = pathlib.Path(\"./\").resolve().parent\n",
    "    sys.path.insert(0, str(_parentdir))\n",
    "    import chsimpy\n",
    "    #sys.path.remove(str(_parentdir))"
   ]
  },
  {
   "cell_type": "code",
   "execution_count": null,
   "id": "174a9f92",
   "metadata": {},
   "outputs": [],
   "source": [
    "# if code has changed, reload here\n",
    "importlib.reload(chsimpy)\n",
    "\n",
    "importlib.reload(chsimpy.plotview)\n",
    "importlib.reload(chsimpy.solution)\n",
    "importlib.reload(chsimpy.model)\n",
    "importlib.reload(chsimpy.controller)\n",
    "importlib.reload(chsimpy.parameters)\n",
    "importlib.reload(chsimpy.utils)\n",
    "importlib.reload(chsimpy.mport)"
   ]
  },
  {
   "cell_type": "code",
   "execution_count": null,
   "id": "367493bc",
   "metadata": {
    "scrolled": false
   },
   "outputs": [],
   "source": [
    "params = chsimpy.parameters.Parameters()\n",
    "params.ntmax = 1500\n",
    "params.render_target='gui'\n",
    "controller = chsimpy.controller.Controller(params)\n",
    "solution = controller.run()\n",
    "controller.render()"
   ]
  },
  {
   "cell_type": "code",
   "execution_count": null,
   "id": "f3ff970d",
   "metadata": {},
   "outputs": [],
   "source": [
    "#SAlist = [controller.model.SA, controller.model.SA2, controller.model.SA3]\n",
    "#(np.min(np.min(SAlist)), np.max(np.max(SAlist)))\n",
    "#SAlist[2]\n",
    "\n",
    "#controller.model.hat_U\n",
    "\n",
    "# controller.model.params.Leig\n",
    "\n",
    "# chsimpy.mport.gradient(controller.model.U, controller.params.delx)"
   ]
  },
  {
   "cell_type": "code",
   "execution_count": null,
   "id": "cb175a2c",
   "metadata": {},
   "outputs": [],
   "source": [
    "from matplotlib import pyplot as plt\n",
    "from matplotlib import colors\n",
    "# matplotlib.artist.getp(fig.patch) # https://matplotlib.org/stable/tutorials/intermediate/artists.html#sphx-glr-tutorials-intermediate-artists-py"
   ]
  },
  {
   "cell_type": "code",
   "execution_count": null,
   "id": "f8461e51",
   "metadata": {
    "scrolled": false
   },
   "outputs": [],
   "source": [
    "U = solution.U\n",
    "#Uhat = controller.model.hat_U\n",
    "Ureal = np.real(U)\n",
    "N = controller.model.params.N\n",
    "\n",
    "# colormap, https://matplotlib.org/2.0.2/users/colormaps.html\n",
    "cmap = colors.ListedColormap(['orange', 'yellow'])\n",
    "boundaries = [0.0, solution.params.threshold, 1]\n",
    "norm = colors.BoundaryNorm(boundaries, cmap.N, clip=True)\n",
    "\n",
    "fig = plt.figure(figsize=(12,5))\n",
    "# nrow, ncol, index\n",
    "ax1 = fig.add_subplot(1, 2, 1)\n",
    "\n",
    "#ax1.imshow(Ureal, cmap=cmap, norm=norm, aspect=\"equal\")\n",
    "ax1.imshow(Ureal, cmap=\"plasma\", aspect=\"equal\")\n",
    "\n",
    "ax2 = fig.add_subplot(1, 2, 2) \n",
    "\n",
    "#ax.cla()\n",
    "#ax2.set_xlim(0, N)\n",
    "#ax2.set_ylim(0.5, 1)\n",
    "\n",
    "# https://matplotlib.org/2.0.2/users/colormaps.html\n",
    "ax2.plot(np.arange(0,N), Ureal[int(N / 2)+1,:])\n",
    "\n",
    "display(fig)\n",
    "#plt.pause(0.5)\n",
    "matplotlib.pyplot.close()"
   ]
  },
  {
   "cell_type": "code",
   "execution_count": null,
   "id": "4523b091",
   "metadata": {},
   "outputs": [],
   "source": [
    "# https://towardsdatascience.com/matplotlib-animations-in-jupyter-notebook-4422e4f0e389"
   ]
  }
 ],
 "metadata": {
  "hide_input": false,
  "kernelspec": {
   "display_name": "Python 3",
   "language": "python",
   "name": "python3"
  },
  "language_info": {
   "codemirror_mode": {
    "name": "ipython",
    "version": 3
   },
   "file_extension": ".py",
   "mimetype": "text/x-python",
   "name": "python",
   "nbconvert_exporter": "python",
   "pygments_lexer": "ipython3",
   "version": "3.10.8"
  },
  "toc": {
   "base_numbering": 1,
   "nav_menu": {},
   "number_sections": true,
   "sideBar": true,
   "skip_h1_title": false,
   "title_cell": "Table of Contents",
   "title_sidebar": "Contents",
   "toc_cell": false,
   "toc_position": {},
   "toc_section_display": true,
   "toc_window_display": false
  }
 },
 "nbformat": 4,
 "nbformat_minor": 5
}
