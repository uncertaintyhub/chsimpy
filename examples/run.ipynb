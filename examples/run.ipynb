{
 "cells": [
  {
   "cell_type": "code",
   "execution_count": null,
   "id": "6220b5d8",
   "metadata": {},
   "outputs": [],
   "source": [
    "import numpy as np\n",
    "import importlib\n",
    "\n",
    "import pathlib\n",
    "import sys\n",
    "\n",
    "try:\n",
    "    import chsimpy\n",
    "except ImportError:\n",
    "    _parentdir = pathlib.Path(\"./\").resolve().parent\n",
    "    sys.path.insert(0, str(_parentdir))\n",
    "    import chsimpy\n",
    "    #sys.path.remove(str(_parentdir))"
   ]
  },
  {
   "cell_type": "code",
   "execution_count": null,
   "id": "174a9f92",
   "metadata": {},
   "outputs": [],
   "source": [
    "importlib.reload(chsimpy)\n",
    "\n",
    "import chsimpy.view\n",
    "import chsimpy.model\n",
    "import chsimpy.controller\n",
    "import chsimpy.parameters\n",
    "import chsimpy.solution\n",
    "import chsimpy.utils\n",
    "import chsimpy.mport\n",
    "\n",
    "importlib.reload(chsimpy.view)\n",
    "importlib.reload(chsimpy.model)\n",
    "importlib.reload(chsimpy.controller)\n",
    "importlib.reload(chsimpy.parameters)\n",
    "importlib.reload(chsimpy.solution)\n",
    "importlib.reload(chsimpy.utils)\n",
    "importlib.reload(chsimpy.mport)"
   ]
  },
  {
   "cell_type": "code",
   "execution_count": null,
   "id": "367493bc",
   "metadata": {
    "scrolled": false
   },
   "outputs": [],
   "source": [
    "controller = chsimpy.controller.Controller()\n",
    "controller.run(990)\n",
    "controller.render()"
   ]
  },
  {
   "cell_type": "code",
   "execution_count": null,
   "id": "ed85f117",
   "metadata": {},
   "outputs": [],
   "source": [
    "import pandas as pd"
   ]
  },
  {
   "cell_type": "code",
   "execution_count": null,
   "id": "f3ff970d",
   "metadata": {},
   "outputs": [],
   "source": [
    "#SAlist = [controller.model.SA, controller.model.SA2, controller.model.SA3]\n",
    "#(np.min(np.min(SAlist)), np.max(np.max(SAlist)))\n",
    "#SAlist[2]\n",
    "\n",
    "#controller.model.hat_U\n",
    "\n",
    "# controller.model.params.Leig\n",
    "\n",
    "# chsimpy.mport.gradient(controller.model.U, controller.params.delx)"
   ]
  },
  {
   "cell_type": "code",
   "execution_count": null,
   "id": "cb175a2c",
   "metadata": {},
   "outputs": [],
   "source": [
    "from matplotlib import pyplot as plt\n",
    "# matplotlib.artist.getp(fig.patch) # https://matplotlib.org/stable/tutorials/intermediate/artists.html#sphx-glr-tutorials-intermediate-artists-py"
   ]
  },
  {
   "cell_type": "code",
   "execution_count": null,
   "id": "f8461e51",
   "metadata": {
    "scrolled": false
   },
   "outputs": [],
   "source": [
    "U = controller.model.U\n",
    "#Uhat = controller.model.hat_U\n",
    "Ureal = np.real(U)\n",
    "N = controller.model.params.N\n",
    "\n",
    "fig = plt.figure(figsize=(12,5))\n",
    "# nrow, ncol, index\n",
    "ax1 = fig.add_subplot(1, 2, 1) \n",
    "# https://matplotlib.org/2.0.2/users/colormaps.html\n",
    "ax1.imshow(Ureal, cmap=\"plasma\", aspect=\"equal\")\n",
    "\n",
    "ax2 = fig.add_subplot(1, 2, 2) \n",
    "\n",
    "#ax.cla()\n",
    "#ax2.set_xlim(0, N)\n",
    "#ax2.set_ylim(0.5, 1)\n",
    "\n",
    "# https://matplotlib.org/2.0.2/users/colormaps.html\n",
    "ax2.plot(np.arange(0,N), Ureal[int(N / 2)+1,:])\n",
    "\n",
    "#display(fig)\n",
    "#plt.pause(0.5)"
   ]
  },
  {
   "cell_type": "code",
   "execution_count": null,
   "id": "4523b091",
   "metadata": {},
   "outputs": [],
   "source": [
    "# https://towardsdatascience.com/matplotlib-animations-in-jupyter-notebook-4422e4f0e389"
   ]
  }
 ],
 "metadata": {
  "kernelspec": {
   "display_name": "Python 3 (ipykernel)",
   "language": "python",
   "name": "python3"
  },
  "language_info": {
   "codemirror_mode": {
    "name": "ipython",
    "version": 3
   },
   "file_extension": ".py",
   "mimetype": "text/x-python",
   "name": "python",
   "nbconvert_exporter": "python",
   "pygments_lexer": "ipython3",
   "version": "3.10.8"
  }
 },
 "nbformat": 4,
 "nbformat_minor": 5
}
