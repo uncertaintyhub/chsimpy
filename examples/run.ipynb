{
 "cells": [
  {
   "cell_type": "code",
   "execution_count": 3,
   "id": "6220b5d8",
   "metadata": {
    "ExecuteTime": {
     "end_time": "2023-02-10T20:22:27.696886Z",
     "start_time": "2023-02-10T20:22:27.003748Z"
    },
    "scrolled": true
   },
   "outputs": [],
   "source": [
    "from matplotlib import pyplot as plt\n",
    "from matplotlib import colors\n",
    "import matplotlib\n",
    "import numpy as np\n",
    "\n",
    "# usually this notebook is loaded as top-level-module and relative import of chsimpy does not work.\n",
    "# so we provide the path to the chsimpy package manually\n",
    "import pathlib\n",
    "import sys\n",
    "\n",
    "try:\n",
    "    import chsimpy\n",
    "except ImportError:\n",
    "    _parentdir = pathlib.Path(\"./\").resolve().parent\n",
    "    sys.path.insert(0, str(_parentdir))\n",
    "    import chsimpy\n",
    "    #sys.path.remove(str(_parentdir))\n",
    "\n",
    "# auto reload if chsimpy code changed\n",
    "%load_ext autoreload\n",
    "%autoreload 2\n",
    "\n",
    "def clear_plots():\n",
    "    plt.clf()\n",
    "    plt.close('all')"
   ]
  },
  {
   "cell_type": "code",
   "execution_count": 4,
   "id": "0842eb14",
   "metadata": {
    "ExecuteTime": {
     "end_time": "2023-02-10T20:22:42.875014Z",
     "start_time": "2023-02-10T20:22:42.828341Z"
    }
   },
   "outputs": [],
   "source": [
    "%matplotlib inline\n",
    "from chsimpy import *\n",
    "simulator = None"
   ]
  },
  {
   "cell_type": "code",
   "execution_count": 6,
   "id": "367493bc",
   "metadata": {
    "ExecuteTime": {
     "end_time": "2023-02-10T21:34:15.206523Z",
     "start_time": "2023-02-10T21:34:14.949400Z"
    },
    "scrolled": false
   },
   "outputs": [],
   "source": [
    "params = Parameters()  # initial parameter configuration\n",
    "params.N = 512  # resolution (NxN image)\n",
    "\n",
    "# params.ntmax = 2000  # maximal number of simulation steps\n",
    "params.time_max = 40  # max sim time in minutes, ignores ntmax\n",
    "\n",
    "params.XXX = 0.89  # mean initial concentration of U\n",
    "params.threshold = params.XXX  # threshold value to determine components A and B in U\n",
    "\n",
    "params.delt = 1e-11\n",
    "# params.delt_max = 9e-11\n",
    "# params.adaptive_time = True\n",
    "# params.kappa_base = 30  # for kappa = kappa_base / 105.1939\n",
    "# params.M = 2e-11  # mobility factor\n",
    "params.full_sim = True  # False -> will stop early when energy falls\n",
    "\n",
    "params.yaml = False  # do (not) export to yaml (metadata)\n",
    "params.png = False  # do (not) export to PNG\n",
    "params.export_csv = None  # can be a enumeration like 'U,E,E2,SA'\n",
    "params.no_diagrams = False  # render only concentration image of U\n",
    "# params.update_every = 5  # update view every x steps\n",
    "# params.file_id = f\"N{params.N}-{params.time_max}min-K{params.kappa_base}-a{params.adaptive_time}-M{params.M}\"  # existing files will be overwritten\n",
    "\n",
    "# init simulation with parameters\n",
    "simulator = Simulator(params)\n",
    "\n",
    "# str(params)  # show all parameters"
   ]
  },
  {
   "cell_type": "code",
   "execution_count": null,
   "id": "a8b85838",
   "metadata": {
    "ExecuteTime": {
     "end_time": "2023-02-10T21:34:15.215823Z",
     "start_time": "2023-02-10T21:34:15.207573Z"
    }
   },
   "outputs": [],
   "source": [
    "## custom initial U, if needed (uncomment then)\n",
    "# import numpy as np\n",
    "# rng = np.random.default_rng(seed=2023)\n",
    "# U_0 = 0.89 + (0.0089 * (rng.random((params.N, params.N)) - 0.5))\n",
    "# simulator = chsimpy.simulator.Simulator(params, U_0)"
   ]
  },
  {
   "cell_type": "code",
   "execution_count": null,
   "id": "8cafa902",
   "metadata": {},
   "outputs": [],
   "source": [
    "# from perlin_numpy import (\n",
    "#     generate_perlin_noise_2d, generate_fractal_noise_2d\n",
    "# )\n",
    "# np.random.seed(2023)\n",
    "# noise = generate_fractal_noise_2d((512, 512), (8, 8), 5)\n",
    "# U_0 = 0.89 + (0.0089 * (noise - 0.5))\n",
    "# simulator = chsimpy.simulator.Simulator(params, U_0)"
   ]
  },
  {
   "cell_type": "code",
   "execution_count": 7,
   "id": "13554b80",
   "metadata": {
    "ExecuteTime": {
     "end_time": "2023-02-10T21:34:40.122778Z",
     "start_time": "2023-02-10T21:34:15.564965Z"
    },
    "scrolled": false
   },
   "outputs": [],
   "source": [
    "solution = simulator.solve()\n",
    "simulator.render()\n",
    "# simulator.export()  # export yaml, png, csv if provided in parameters (yaml, png, png_anim, export_csv, file_id)"
   ]
  },
  {
   "cell_type": "code",
   "execution_count": null,
   "id": "f8461e51",
   "metadata": {
    "ExecuteTime": {
     "end_time": "2023-02-10T21:33:47.731653Z",
     "start_time": "2023-02-10T21:33:47.525195Z"
    },
    "scrolled": false
   },
   "outputs": [],
   "source": [
    "clear_plots()\n",
    "\n",
    "U = solution.U\n",
    "Ureal = np.real(U)\n",
    "N = simulator.solver.params.N\n",
    "th = 0.885  # threshold\n",
    "\n",
    "# colormap, https://matplotlib.org/2.0.2/users/colormaps.html\n",
    "cmap = colors.ListedColormap(['orange', 'yellow'])\n",
    "boundaries = [0.0, th, 1]\n",
    "norm = colors.BoundaryNorm(boundaries, cmap.N, clip=True)\n",
    "\n",
    "fig = plt.figure(figsize=(12,5))\n",
    "# nrow, ncol, index\n",
    "ax1 = fig.add_subplot(1, 2, 1)\n",
    "\n",
    "#ax1.imshow(Ureal, cmap=cmap, norm=norm, aspect=\"equal\")\n",
    "ax1.imshow(Ureal, cmap=\"plasma\", aspect=\"equal\")\n",
    "\n",
    "ax2 = fig.add_subplot(1, 2, 2) \n",
    "\n",
    "#ax.cla()\n",
    "#ax2.set_xlim(0, N)\n",
    "#ax2.set_ylim(0.5, 1)\n",
    "\n",
    "# https://matplotlib.org/2.0.2/users/colormaps.html\n",
    "ax2.plot(np.arange(0,N), Ureal[int(N / 2)+1,:])"
   ]
  },
  {
   "cell_type": "code",
   "execution_count": null,
   "id": "47437a09",
   "metadata": {
    "ExecuteTime": {
     "end_time": "2023-02-10T21:33:49.734253Z",
     "start_time": "2023-02-10T21:33:49.516586Z"
    }
   },
   "outputs": [],
   "source": [
    "clear_plots()\n",
    "\n",
    "U = solution.U\n",
    "Ureal = np.real(U)\n",
    "N = simulator.solver.params.N\n",
    "th = 0.9\n",
    "\n",
    "fig = plt.figure(figsize=(12,5))\n",
    "#\n",
    "cmap = colors.ListedColormap(['orange', 'yellow'])\n",
    "boundaries = [0.0, th, 1]\n",
    "norm = colors.BoundaryNorm(boundaries, cmap.N, clip=True)\n",
    "# nrow, ncol, index\n",
    "ax1 = fig.add_subplot(1, 2, 1)\n",
    "ax1.imshow(Ureal, cmap=cmap, norm=norm, aspect=\"equal\")\n",
    "ax2 = fig.add_subplot(1, 2, 2) \n",
    "ax2.imshow(Ureal, cmap=\"gist_ncar\", aspect=\"equal\")"
   ]
  },
  {
   "cell_type": "code",
   "execution_count": null,
   "id": "7fd379fc",
   "metadata": {
    "scrolled": false
   },
   "outputs": [],
   "source": [
    "from perlin_numpy import (\n",
    "    generate_perlin_noise_2d, generate_fractal_noise_2d\n",
    ")\n",
    "from matplotlib import cm\n",
    "#\n",
    "clear_plots()\n",
    "#\n",
    "np.random.seed(2023)\n",
    "noise = generate_fractal_noise_2d((512, 512), (8, 8), 5)\n",
    "U_0 = 0.885 + (0.01 * (noise - 0.5))\n",
    "\n",
    "rng = np.random.default_rng(seed=2023)\n",
    "U_0 = 0.885 + (0.01 * (rng.random((noise.shape[0], noise.shape[1])) - 0.5))\n",
    "\n",
    "x, y = np.meshgrid(range(noise.shape[0]), range(noise.shape[1]))\n",
    "# show hight map in 3d\n",
    "fig = plt.figure()\n",
    "ax = fig.add_subplot(111, projection='3d')\n",
    "ax.plot_surface(x, y, U_0, cmap=cm.coolwarm,\n",
    "                linewidth=0, antialiased=False)\n",
    "plt.title('U_0 as 3d height map')\n",
    "plt.show()\n",
    "\n",
    "# show hight map in 2d\n",
    "plt.figure()\n",
    "plt.title('U_0 as 2d heat map')\n",
    "p = plt.imshow(U_0, cmap=cm.coolwarm)\n",
    "plt.colorbar(p)\n",
    "plt.show()"
   ]
  },
  {
   "cell_type": "code",
   "execution_count": null,
   "id": "4e414087",
   "metadata": {},
   "outputs": [],
   "source": []
  }
 ],
 "metadata": {
  "hide_input": false,
  "kernelspec": {
   "display_name": "Python 3 (ipykernel)",
   "language": "python",
   "name": "python3"
  },
  "language_info": {
   "codemirror_mode": {
    "name": "ipython",
    "version": 3
   },
   "file_extension": ".py",
   "mimetype": "text/x-python",
   "name": "python",
   "nbconvert_exporter": "python",
   "pygments_lexer": "ipython3",
   "version": "3.10.9"
  },
  "toc": {
   "base_numbering": 1,
   "nav_menu": {},
   "number_sections": true,
   "sideBar": true,
   "skip_h1_title": false,
   "title_cell": "Table of Contents",
   "title_sidebar": "Contents",
   "toc_cell": false,
   "toc_position": {},
   "toc_section_display": true,
   "toc_window_display": false
  }
 },
 "nbformat": 4,
 "nbformat_minor": 5
}
