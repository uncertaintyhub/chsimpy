{
 "cells": [
  {
   "cell_type": "code",
   "execution_count": null,
   "id": "6220b5d8",
   "metadata": {
    "ExecuteTime": {
     "end_time": "2023-02-10T20:22:27.696886Z",
     "start_time": "2023-02-10T20:22:27.003748Z"
    },
    "scrolled": true
   },
   "outputs": [],
   "source": [
    "# usually this notebook is loaded as top-level-module and relative import of chsimpy does not work.\n",
    "# so we provide the path to the chsimpy package manually\n",
    "import pathlib\n",
    "import sys\n",
    "\n",
    "try:\n",
    "    import chsimpy\n",
    "except ImportError:\n",
    "    _parentdir = pathlib.Path(\"./\").resolve().parent\n",
    "    sys.path.insert(0, str(_parentdir))\n",
    "    import chsimpy\n",
    "    #sys.path.remove(str(_parentdir))\n",
    "\n",
    "# auto reload if chsimpy code changed\n",
    "%load_ext autoreload\n",
    "%autoreload 2"
   ]
  },
  {
   "cell_type": "code",
   "execution_count": null,
   "id": "0842eb14",
   "metadata": {
    "ExecuteTime": {
     "end_time": "2023-02-10T20:22:42.875014Z",
     "start_time": "2023-02-10T20:22:42.828341Z"
    }
   },
   "outputs": [],
   "source": [
    "%matplotlib inline\n",
    "from chsimpy import *\n",
    "simulator = None"
   ]
  },
  {
   "cell_type": "code",
   "execution_count": null,
   "id": "367493bc",
   "metadata": {
    "ExecuteTime": {
     "end_time": "2023-02-10T21:34:15.206523Z",
     "start_time": "2023-02-10T21:34:14.949400Z"
    },
    "scrolled": false
   },
   "outputs": [],
   "source": [
    "\n",
    "params = Parameters()  # initial parameter configuration\n",
    "params.N = 512  # resolution (NxN image)\n",
    "params.ntmax = 2000  # maximal number of simulation steps\n",
    "params.threshold = 0.88  # threshold value to determine components A and B in U\n",
    "params.delt = 1e-11\n",
    "params.delt_max = 9e-11\n",
    "params.adaptive_time = True\n",
    "params.kappa_base = 50  # for kappa = kappa_base / 105.1939\n",
    "params.M = 9e-12  # mobility factor\n",
    "params.full_sim = True  # False -> will stop early when energy falls\n",
    "params.render_target = 'gui+png+yaml'  # '+png' renders to PNG, '+yaml' dumps metadata, ... \n",
    "params.dump_id = f\"N{params.N}-n{params.ntmax}-K{params.kappa_base}-a{params.adaptive_time}\"  # existing files will be overwritten\n",
    "\n",
    "# if this cell is rerun, cleanup previous figures, otherwise warning occur after 20 unclosed figures\n",
    "if simulator is not None:\n",
    "    simulator.view.close()\n",
    "# give it to chsimpy controller\n",
    "simulator = Simulator(params)\n",
    "\n",
    "# vars(params)  # show all parameters"
   ]
  },
  {
   "cell_type": "code",
   "execution_count": null,
   "id": "a8b85838",
   "metadata": {
    "ExecuteTime": {
     "end_time": "2023-02-10T21:34:15.215823Z",
     "start_time": "2023-02-10T21:34:15.207573Z"
    }
   },
   "outputs": [],
   "source": [
    "# # custom initial U, if needed (uncomment then)\n",
    "# import numpy as np\n",
    "# rng = np.random.default_rng(seed=2023)\n",
    "# U_0 = 0.875 + (0.01 * (rng.random((params.N, params.N)) - 0.5))\n",
    "# # give it to chsimpy controller\n",
    "# simulator = chsimpy.simulator.Simulator(params, U_0)"
   ]
  },
  {
   "cell_type": "code",
   "execution_count": null,
   "id": "13554b80",
   "metadata": {
    "ExecuteTime": {
     "end_time": "2023-02-10T21:34:40.122778Z",
     "start_time": "2023-02-10T21:34:15.564965Z"
    },
    "scrolled": false
   },
   "outputs": [],
   "source": [
    "# solve and render it\n",
    "solution = simulator.solve()\n",
    "simulator.render()\n",
    "# simulator.dump_solution(params.dump_id)  # if you want to output metadata (requires +yaml in render_target)"
   ]
  },
  {
   "cell_type": "code",
   "execution_count": null,
   "id": "cb175a2c",
   "metadata": {
    "ExecuteTime": {
     "end_time": "2023-02-10T20:33:18.659389Z",
     "start_time": "2023-02-10T20:33:18.611507Z"
    }
   },
   "outputs": [],
   "source": [
    "from matplotlib import pyplot as plt\n",
    "from matplotlib import colors\n",
    "import matplotlib\n",
    "import numpy as np\n",
    "# matplotlib.artist.getp(fig.patch) # https://matplotlib.org/stable/tutorials/intermediate/artists.html#sphx-glr-tutorials-intermediate-artists-py"
   ]
  },
  {
   "cell_type": "code",
   "execution_count": null,
   "id": "f8461e51",
   "metadata": {
    "ExecuteTime": {
     "end_time": "2023-02-10T21:33:47.731653Z",
     "start_time": "2023-02-10T21:33:47.525195Z"
    },
    "scrolled": false
   },
   "outputs": [],
   "source": [
    "matplotlib.pyplot.close()\n",
    "\n",
    "U = solution.U\n",
    "Ureal = np.real(U)\n",
    "N = simulator.solver.params.N\n",
    "th = 0.875  # threshold\n",
    "\n",
    "# colormap, https://matplotlib.org/2.0.2/users/colormaps.html\n",
    "cmap = colors.ListedColormap(['orange', 'yellow'])\n",
    "boundaries = [0.0, th, 1]\n",
    "norm = colors.BoundaryNorm(boundaries, cmap.N, clip=True)\n",
    "\n",
    "fig = plt.figure(figsize=(12,5))\n",
    "# nrow, ncol, index\n",
    "ax1 = fig.add_subplot(1, 2, 1)\n",
    "\n",
    "#ax1.imshow(Ureal, cmap=cmap, norm=norm, aspect=\"equal\")\n",
    "ax1.imshow(Ureal, cmap=\"plasma\", aspect=\"equal\")\n",
    "\n",
    "ax2 = fig.add_subplot(1, 2, 2) \n",
    "\n",
    "#ax.cla()\n",
    "#ax2.set_xlim(0, N)\n",
    "#ax2.set_ylim(0.5, 1)\n",
    "\n",
    "# https://matplotlib.org/2.0.2/users/colormaps.html\n",
    "ax2.plot(np.arange(0,N), Ureal[int(N / 2)+1,:])\n",
    "\n",
    "display(fig)\n",
    "#plt.pause(0.5)\n",
    "matplotlib.pyplot.close()"
   ]
  },
  {
   "cell_type": "code",
   "execution_count": null,
   "id": "47437a09",
   "metadata": {
    "ExecuteTime": {
     "end_time": "2023-02-10T21:33:49.734253Z",
     "start_time": "2023-02-10T21:33:49.516586Z"
    }
   },
   "outputs": [],
   "source": [
    "th = 0.85\n",
    "\n",
    "fig = plt.figure(figsize=(12,5))\n",
    "#\n",
    "cmap = colors.ListedColormap(['orange', 'yellow'])\n",
    "boundaries = [0.0, th, 1]\n",
    "norm = colors.BoundaryNorm(boundaries, cmap.N, clip=True)\n",
    "# nrow, ncol, index\n",
    "ax1 = fig.add_subplot(1, 2, 1)\n",
    "ax1.imshow(Ureal, cmap=cmap, norm=norm, aspect=\"equal\")\n",
    "ax2 = fig.add_subplot(1, 2, 2) \n",
    "ax2.imshow(Ureal, cmap=\"gist_ncar\", aspect=\"equal\")\n",
    "\n",
    "display(fig)\n",
    "#plt.pause(0.5)\n",
    "matplotlib.pyplot.close()"
   ]
  },
  {
   "cell_type": "code",
   "execution_count": null,
   "id": "7fd379fc",
   "metadata": {},
   "outputs": [],
   "source": []
  }
 ],
 "metadata": {
  "hide_input": false,
  "kernelspec": {
   "display_name": "Python 3",
   "language": "python",
   "name": "python3"
  },
  "language_info": {
   "codemirror_mode": {
    "name": "ipython",
    "version": 3
   },
   "file_extension": ".py",
   "mimetype": "text/x-python",
   "name": "python",
   "nbconvert_exporter": "python",
   "pygments_lexer": "ipython3",
   "version": "3.10.9"
  },
  "toc": {
   "base_numbering": 1,
   "nav_menu": {},
   "number_sections": true,
   "sideBar": true,
   "skip_h1_title": false,
   "title_cell": "Table of Contents",
   "title_sidebar": "Contents",
   "toc_cell": false,
   "toc_position": {},
   "toc_section_display": true,
   "toc_window_display": false
  }
 },
 "nbformat": 4,
 "nbformat_minor": 5
}
